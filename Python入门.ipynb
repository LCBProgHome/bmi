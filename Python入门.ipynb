{
 "cells": [
  {
   "cell_type": "markdown",
   "metadata": {},
   "source": [
    "<div style=\"font-size:32px;text-align:center;font-weight:600;margin:20px;\">借助项目入门Python编程</div>\n",
    "<div style=\"text-align:center;font-size:18px;font-family:'楷体';color:lightblue\">——路桥教研中心 梁财兵</div>"
   ]
  },
  {
   "cell_type": "markdown",
   "metadata": {},
   "source": [
    "### 项目：身体质量指数BMI（ 克托莱指数)###\n",
    "\n",
    "<div style=\"font-size:18px;margin-top:20px;text-indent:2em;\">BMI身体质量指数(Body Mass Index)，是目前国际上最常用的衡量人体体重程度以及是否健康的一个标准。BMI指数值可以评估体重对于健康带来的影响时，是一个中立而可靠的指标。运动员或者怀孕、哺乳期女性，以及长期卧床、身体虚弱的老年人，都不适合用BMI指数计算进行评判。</div>  \n",
    "\n",
    "[关于肥胖和超重的危害](https://www.who.int/zh/news-room/fact-sheets/detail/obesity-and-overweight)——来自世界卫生组织"
   ]
  },
  {
   "cell_type": "markdown",
   "metadata": {},
   "source": [
    "<div style=\"font-size:18px;text-indent:2em;\">要计算BMI指数，需要身高和体重的具体数值。成人BMI指数的计算公式如下：</div>\n",
    "<table border=\"0\" cellpadding=\"2\" cellspacing=\"2\" style=\" border:1px solid #000000; background-color:#f5f5f5;\">\n",
    "<tbody>\n",
    "<tr>\n",
    "    <td rowspan=\"2\">BMI=</td>\n",
    "    <td style=\"text-align:center;border-bottom:1px solid #000000\" width=\"150\">体重 (磅) x 703</td>\n",
    "</tr>\n",
    "<tr>\n",
    "    <td>身高 (英寸) × 身高 (英寸)</td>\n",
    "</tr>\n",
    "</tbody>\n",
    "</table>\n",
    "<table border=\"0\" cellpadding=\"2\" cellspacing=\"2\" style=\" border:1px solid #000000;background-color:#f5f5f5;\">\n",
    "<tbody>\n",
    "<tr>\n",
    "    <td rowspan=\"3\">BMI=</td>\n",
    "    <td colspan=\"3\" style=\"text-align:center;border-bottom:1px solid #000000\" width=\"160\">体重 (公斤)</td>\n",
    "</tr>\n",
    "<tr>\n",
    "    <td rowspan=\"2\" style=\"font-size:25px;\">(</td>\n",
    "    <td style=\"border-bottom:1px solid #000000\">身高 (厘米) × 身高 (厘米)</td>\n",
    "    <td rowspan=\"2\" style=\"font-size:25px;\">)</td>\n",
    "</tr>\n",
    "<tr>\n",
    "    <td style=\"text-align:center\">10000</td>\n",
    "</tr>\n",
    "</tbody>\n",
    "</table>"
   ]
  },
  {
   "cell_type": "markdown",
   "metadata": {},
   "source": [
    "<p style=\"font-size:18px;text-indent:2em;\">成人BMI指数的对照表如下：</p>\n",
    "<table border=\"0\" cellpadding=\"2\" cellspacing=\"0\" style=\" border:1px solid #000000;\">\n",
    "<tbody>\n",
    "<tr >\n",
    "    <td width=80 style=\"text-align:center;\">人种</td>\n",
    "    <td width=100 style=\"text-align:center;\">体重过轻</td>\n",
    "    <td width=100 style=\"text-align:center;\">正常体重</td>\n",
    "    <td width=100 style=\"text-align:center;\">超重</td>\n",
    "    <td width=100 style=\"text-align:center;\">肥胖</td>\n",
    "</tr>\n",
    "<tr>\n",
    "    <td style=\"text-align:center;\"><strong>亚洲人</strong></td>\n",
    "    <td style=\"text-align:center;\">＜18.5</td>\n",
    "    <td style=\"text-align:center;\">18.5–23</td>\n",
    "    <td style=\"text-align:center;\">23.1–27.9</td>\n",
    "    <td style=\"text-align:center;\">≥28 </td>\n",
    "</tr>\n",
    "<tr>\n",
    "    <td style=\"text-align:center;\"><strong>非亚洲人</strong></td>\n",
    "    <td style=\"text-align:center;\">＜18.5</td>\n",
    "    <td style=\"text-align:center;\">18.5–24.9</td>\n",
    "    <td style=\"text-align:center;\">25.0–29.9</td>\n",
    "    <td style=\"text-align:center;\">≥30</td>\n",
    "</tr>\n",
    "</tbody>\n",
    "</table>\n",
    "\n",
    "更多关于BMI的知识，参见[维基百科](https://zh.wikipedia.org/wiki/%E8%BA%AB%E9%AB%94%E8%B3%AA%E9%87%8F%E6%8C%87%E6%95%B8\")"
   ]
  },
  {
   "cell_type": "markdown",
   "metadata": {},
   "source": [
    "---------------------------      \n",
    "## 使用Python实现BMI的计算 ##  \n",
    "-----------------------\n",
    "\n",
    "### 版本 1.0 ###  \n",
    "\n",
    "##### python知识技能 #####    \n",
    "\n",
    "1. 基础语法\n",
    " - 注释：单行注释以 # 开头，多行注释可以用多个 # 号，还有 ''' 和 \"\"\"\n",
    " - 行与缩进：使用缩进来表示代码块，不需要使用大括号 {}，缩进的空格数是可变的，但是同一个代码块的语句必须包含相同的缩进空格数\n",
    " - 数字类型：int，float\n",
    " - 字符串类型：string\n",
    " - 变量赋值：使用等号“=”来给变量赋值。等号运算符左边是一个变量名,等号运算符右边是存储在变量中的值。\n",
    " - 输出语句：print(*objects, sep=' ', end='\\n', file=sys.stdout, flush=False)\n",
    "2. 运算符\n",
    " - 四则运算：+，-，*，/\n",
    " - 取整除：//\n",
    " - 取模运算：%\n",
    " - 幂运算：**\n",
    "3. 程序结构\n",
    " - 顺序结构"
   ]
  },
  {
   "cell_type": "code",
   "execution_count": 2,
   "metadata": {},
   "outputs": [
    {
     "name": "stdout",
     "output_type": "stream",
     "text": [
      "您的BMI为： 21.971335857220122\n"
     ]
    }
   ],
   "source": [
    "#版本1.0：固定身高、体重的BMI计算\n",
    "height = 1.72  #单位：米 M\n",
    "weight = 65    #单位：公斤 Kg\n",
    "bmi = weight / height**2\n",
    "print(\"您的BMI为：\",bmi)"
   ]
  },
  {
   "cell_type": "markdown",
   "metadata": {},
   "source": [
    "### 版本1.1 优化BMI计算结果，保留2位小数 ###  \n",
    "\n",
    "#### Python知识技能 ####\n",
    "\n",
    "###### 1.使用内置函数：round( x [, n]  )###### \n",
    "> - x -- 数值表达式。\n",
    "> - n -- 数值表达式，表示从小数点位数。\n",
    "> - 返回值 -- 返回浮点数x的四舍五入值。\n",
    "\n",
    "###### 2.使用f-string格式化######   \n",
    ">  格式化字符串以 f 开头，后面跟着字符串，字符串中的表达式用大括号 {} 包起来，它会将变量或表达式计算后的值替换进去。  \n",
    ">  格式化形式为：[[0]width][.precisionStyle]。\n",
    ">  - 0可选，为0width时，用0填充。默认空格填充。\n",
    ">  - width整数，设置数值的宽度。\n",
    ">  - precision非负整数，设置数值的精度，保留的小数位数。\n",
    ">  - Style数值样式，可选f(小数),e(科学计数),%(百分数)"
   ]
  },
  {
   "cell_type": "code",
   "execution_count": 3,
   "metadata": {},
   "outputs": [
    {
     "name": "stdout",
     "output_type": "stream",
     "text": [
      "您的BMI为： 21.97\n"
     ]
    }
   ],
   "source": [
    "#版本1.1：固定身高、体重的BMI计算 用round保留小数\n",
    "height = 1.72  #单位：米 M\n",
    "weight = 65    #单位：公斤 Kg\n",
    "bmi = round(weight / height**2,2)\n",
    "print(\"您的BMI为：\",bmi)"
   ]
  },
  {
   "cell_type": "code",
   "execution_count": 4,
   "metadata": {},
   "outputs": [
    {
     "name": "stdout",
     "output_type": "stream",
     "text": [
      "您的BMI为：21.97\n"
     ]
    }
   ],
   "source": [
    "#版本1.2：固定身高、体重的BMI计算 用f-string格式化输出\n",
    "height = 1.72  #单位：米 M\n",
    "weight = 65    #单位：公斤 Kg\n",
    "bmi = weight / height**2\n",
    "print(f\"您的BMI为：{bmi:.2f}\")"
   ]
  },
  {
   "cell_type": "markdown",
   "metadata": {},
   "source": [
    "-----------------------\n",
    "\n",
    "### 版本 2.0 交互式输入身高、体重，计算BMI ###  \n",
    "\n",
    "##### Python知识技能 #####  \n",
    "\n",
    "1. 输入函数：input([prompt])  \n",
    "  -  prompt--提示信息\n",
    "2. 数据类型转换:显式转换\n",
    "  - int(x [,base]) 将x转换为一个整数\n",
    "  - float(x) 将x转换到一个浮点数\n",
    "  - str(x) 将对象 x 转换为字符串\n",
    "  - chr(x) 将一个整数转换为一个字符"
   ]
  },
  {
   "cell_type": "code",
   "execution_count": 5,
   "metadata": {},
   "outputs": [
    {
     "name": "stdout",
     "output_type": "stream",
     "text": [
      "请输入您的身高(米)：1.7\n",
      "请输入您的体重(公斤)：60\n",
      "您的BMI为：20.76\n"
     ]
    }
   ],
   "source": [
    "#版本2.0：交互式输入身高、体重的BMI计算\n",
    "height = float(input('请输入您的身高(米)：'))    #单位：米 M\n",
    "weight = int(input('请输入您的体重(公斤)：'))    #单位：公斤 Kg\n",
    "bmi = weight / height**2\n",
    "print(f\"您的BMI为：{bmi:.2f}\")"
   ]
  },
  {
   "cell_type": "markdown",
   "metadata": {},
   "source": [
    "-----------   \n",
    "### 版本 2.1 根据BMI判断是否健康 ###  \n",
    "\n",
    "#### 知识技能：分支结构 ####      \n",
    "\n",
    "Python 条件语句是通过一条或多条语句的执行结果（True 或者 False）来决定执行的代码块。可以通过下图来简单了解条件语句的执行过程:  \n",
    "![执行过程图丢失](https://www.runoob.com/wp-content/uploads/2013/11/if-condition.jpg)  \n",
    "代码执行过程：  \n",
    "<img src=\"https://static.runoob.com/images/mix/python-if.webp\" width=\"40%\"></img>    \n",
    "if语句的一般形式如下所示： \n",
    "```python  \n",
    "    if condition_1:\n",
    "        statement_block_1\n",
    "    elif condition_2:\n",
    "        statement_block_2\n",
    "    else:\n",
    "        statement_block_3\n",
    "```\n",
    "- 如果 \"condition_1\" 为 True 将执行 \"statement_block_1\" 块语句  \n",
    "- 如果 \"condition_1\" 为False，将判断 \"condition_2\"  \n",
    "- 如果\"condition_2\" 为 True 将执行 \"statement_block_2\" 块语句\n",
    "- 如果 \"condition_2\" 为False，将执行\"statement_block_3\"块语句   \n",
    "Python 中用 elif 代替了 else if，所以if语句的关键字为：if – elif – else。  \n",
    "<strong>注意：</strong>  \n",
    "1. 每个条件后面要使用冒号 :，表示接下来是满足条件后要执行的语句块。  \n",
    "2. 使用缩进来划分语句块，相同缩进数的语句在一起组成一个语句块。  \n",
    "Gif执行过程演示  \n",
    "![](https://www.runoob.com/wp-content/uploads/2014/05/006faQNTgw1f5wnm0mcxrg30ci07o47l.gif)"
   ]
  },
  {
   "cell_type": "code",
   "execution_count": 6,
   "metadata": {},
   "outputs": [
    {
     "name": "stdout",
     "output_type": "stream",
     "text": [
      "请输入您的身高(米)：1.7\n",
      "请输入您的体重(公斤)：65\n",
      "BMI值：22.5，理想范围，您是标准身材。\n"
     ]
    }
   ],
   "source": [
    "#版本2.1：交互式输入身高、体重,根据BMI判断是否健康\n",
    "height = float(input('请输入您的身高(米)：'))    #单位：米 M\n",
    "weight = int(input('请输入您的体重(公斤)：'))    #单位：公斤 Kg\n",
    "bmi = round(weight / height**2,1)\n",
    "what = \"\"\n",
    "if bmi < 18.5:\n",
    "    what=\"体重过轻，应增加营养和锻炼。\"\n",
    "elif bmi < 23.1:\n",
    "    what=\"理想范围，您是标准身材。\"\n",
    "elif bmi < 28:\n",
    "    what=\"肥胖，减肥已是您的头等大事！\"\n",
    "else:\n",
    "    what=\"重度肥胖，肥胖将危及您的健康！\"\n",
    "print(f\"BMI值：{bmi}，\"+what)"
   ]
  },
  {
   "cell_type": "markdown",
   "metadata": {},
   "source": [
    "-------------  \n",
    "### 版本 2.2 ###  \n",
    "<div style=\"font-size:16px;text-indent:2em;color:tomato;margin:10px\">根据BMI判断是否健康，实现多人连续判断， 输入身高为0结束。</div>\n",
    "\n",
    "---------------  \n",
    "####  知识技能：循环结构 ####  \n",
    " \n",
    "Python 中的循环语句有 while 和 for。  \n",
    "<strong>while 循环</strong>   \n",
    "执行流程图如下：  \n",
    "![](https://www.runoob.com/wp-content/uploads/2013/11/886A6E10-58F1-4A9B-8640-02DBEFF0EF9A.jpg)  \n",
    "while 语句代码执行过程：\n",
    "<img src=\"https://static.runoob.com/images/mix/python-while.webp\" width=\"35%\"></img>    \n",
    "Python 中 while 语句的一般形式：  \n",
    "```python\n",
    "while 判断条件(condition)：\n",
    "    执行语句(statements)……\n",
    "```\n",
    "执行 Gif 演示：\n",
    "![](https://www.runoob.com/wp-content/uploads/2014/05/006faQNTgw1f5wnm06h3ug30ci08cake.gif)   \n",
    "同样需要注意冒号和缩进。另外，在 Python 中没有 do..while 循环。  \n",
    "<strong> 无限循环</strong>   \n",
    "我们可以通过设置条件表达式永远为True来实现无限循环，你可以使用 CTRL+C 来退出当前的无限循环。"
   ]
  },
  {
   "cell_type": "markdown",
   "metadata": {},
   "source": [
    "------------    \n",
    "<strong>for 语句</strong>  \n",
    "Python for 循环可以遍历任何可迭代对象，如一个列表或者一个字符串。\n",
    "执行流程图如下：\n",
    "![](https://www.runoob.com/wp-content/uploads/2013/11/A71EC47E-BC53-4923-8F88-B027937EE2FF.jpg)   \n",
    "for 语句代码执行过程：  \n",
    "![](https://www.runoob.com/wp-content/uploads/2014/05/break-continue-536.png)  \n",
    "for循环的一般格式如下：\n",
    "```python\n",
    "for <variable> in <sequence>:\n",
    "    <statements>\n",
    "```"
   ]
  },
  {
   "cell_type": "markdown",
   "metadata": {},
   "source": [
    "------   \n",
    "<strong>break 和 continue 语句</strong>  \n",
    "break 执行流程图：\n",
    "![](https://www.runoob.com/wp-content/uploads/2014/09/E5A591EF-6515-4BCB-AEAA-A97ABEFC5D7D.jpg)  \n",
    "continue 执行流程图：\n",
    "![](https://www.runoob.com/wp-content/uploads/2014/09/8962A4F1-B78C-4877-B328-903366EA1470.jpg)  \n",
    "break 语句可以跳出 for 和 while 的循环体。  \n",
    "continue 语句被用来告诉 Python 跳过当前循环块中的剩余语句，然后继续进行下一轮循环。  \n",
    "<strong>pass 语句</strong>  \n",
    "Python pass是空语句，是为了保持程序结构的完整性。pass 不做任何事情，一般用做占位语句，如下实例:   \n",
    "```python\n",
    ">>>while True:\n",
    "...     pass  # 等待键盘中断 (Ctrl+C)\n",
    "```"
   ]
  },
  {
   "cell_type": "code",
   "execution_count": 7,
   "metadata": {},
   "outputs": [
    {
     "name": "stdout",
     "output_type": "stream",
     "text": [
      "请输入您的身高(米)：1.7\n",
      "请输入您的体重(公斤)：55\n",
      "BMI值：19.0，理想范围，您是标准身材。\n",
      "请输入您的身高(米)：17\n",
      "您的身高不合理！请重新输入您的身高(米)：65\n",
      "您的身高不合理！请重新输入您的身高(米)：1.7\n",
      "请输入您的体重(公斤)：65\n",
      "BMI值：22.5，理想范围，您是标准身材。\n",
      "请输入您的身高(米)：1.7\n",
      "请输入您的体重(公斤)：70\n",
      "BMI值：24.2，肥胖，减肥已是您的头等大事！\n",
      "请输入您的身高(米)：1.7\n",
      "请输入您的体重(公斤)：85\n",
      "BMI值：29.4，重度肥胖，肥胖将危及您的健康！\n",
      "请输入您的身高(米)：0\n",
      "感谢使用，下次再见！\n"
     ]
    }
   ],
   "source": [
    "#版本2.2：交互式输入身高、体重,根据BMI判断是否健康，实现多人连续判断， 输入体重为0结束。\n",
    "while True:\n",
    "    height = float(input('请输入您的身高(米)：'))    #单位：米 M\n",
    "    if height<=0:\n",
    "        print('感谢使用，下次再见！')\n",
    "        break\n",
    "    while height>2.5:\n",
    "        height = float(input('您的身高不合理！请重新输入您的身高(米)：'))\n",
    "    weight = int(input('请输入您的体重(公斤)：'))    #单位：公斤 Kg\n",
    "    bmi = round(weight / height**2,1)\n",
    "    what = \"\"\n",
    "    if bmi < 18.5:\n",
    "        what=\"体重过轻，应增加营养和锻炼。\"\n",
    "    elif bmi < 23.1:\n",
    "        what=\"理想范围，您是标准身材。\"\n",
    "    elif bmi < 28:\n",
    "        what=\"肥胖，减肥已是您的头等大事！\"\n",
    "    else:\n",
    "        what=\"重度肥胖，肥胖将危及您的健康！\"\n",
    "    print(f\"BMI值：{bmi}，\"+what)"
   ]
  },
  {
   "cell_type": "markdown",
   "metadata": {},
   "source": [
    "-----------  \n",
    "### 版本 2.3 ###  \n",
    "<div style=\"font-size:16px;text-indent:2em;color:tomato;margin:10px\">优化BMI的分支判断。</div>\n",
    "\n",
    "####  知识技能：序列结构 ####  \n",
    "   \n",
    "序列是 Python 中最基本的数据结构。  \n",
    "序列中的每个值都有对应的位置值，称之为索引，第一个索引是 0，第二个索引是 1，依此类推。  \n",
    "Python 有 6 个序列的内置类型，但最常见的是列表和元组。  \n",
    "列表都可以进行的操作包括索引，切片，加，乘，检查成员。  \n",
    "此外，Python 已经内置确定序列的长度以及确定最大和最小的元素的方法。  \n",
    "列表是最常用的 Python 数据类型，它可以作为一个方括号内的逗号分隔值出现。  \n",
    "列表的数据项不需要具有相同的类型,创建一个列表，只要把逗号分隔的不同的数据项使用方括号括起来即可。  \n",
    "如下所示：\n",
    "```python\n",
    "list1 = ['Google', 'Runoob', 1997, 2000]\n",
    "list2 = [1, 2, 3, 4, 5 ]\n",
    "list3 = [\"a\", \"b\", \"c\", \"d\"]\n",
    "list4 = ['red', 'green', 'blue', 'yellow', 'white', 'black']\n",
    "```\n",
    "访问列表中的值  \n",
    "列表索引从 0 开始，第二个索引是 1，依此类推。  \n",
    "通过索引列表可以进行截取、组合等操作。  \n",
    "<img src=\"https://www.runoob.com/wp-content/uploads/2014/05/positive-indexes-1.png\" width=\"70%\"></img>\n",
    "\n",
    "<strong>range()函数</strong>   \n",
    "函数语法:range(start, stop[, step])  \n",
    "参数说明：  \n",
    "- start: 计数从 start 开始。默认是从 0 开始。例如range（5）等价于range（0， 5）;  \n",
    "- stop: 计数到 stop 结束，但不包括 stop。例如：range（0， 5） 是[0, 1, 2, 3, 4]没有5  \n",
    "- step：步长，默认为1。例如：range（0， 5） 等价于 range(0, 5, 1)  \n",
    "如果你需要遍历数字序列，可以使用内置 range() 函数。它会生成数列，例如:  \n",
    "```python\n",
    ">>>for i in range(5):\n",
    "...     print(i)\n",
    "...\n",
    "0\n",
    "1\n",
    "2\n",
    "3\n",
    "4\n",
    "```"
   ]
  },
  {
   "cell_type": "code",
   "execution_count": 9,
   "metadata": {},
   "outputs": [
    {
     "name": "stdout",
     "output_type": "stream",
     "text": [
      "请输入您的身高(米)：1.7\n",
      "请输入您的体重(公斤)：60\n",
      "BMI值：20.8，理想范围，您是标准身材。\n",
      "请输入您的身高(米)：1.7\n",
      "请输入您的体重(公斤)：75\n",
      "BMI值：26.0，肥胖，减肥已是您的头等大事！\n",
      "请输入您的身高(米)：1.7\n",
      "请输入您的体重(公斤)：85\n",
      "BMI值：29.4，重度肥胖，肥胖将危及您的健康！\n",
      "请输入您的身高(米)：0\n",
      "感谢使用，下次再见！\n"
     ]
    }
   ],
   "source": [
    "#版本2.3：优化分支判断。\n",
    "health_status=[(18.5,\"体重过轻，应增加营养和锻炼。\"),\n",
    "               (23.1,\"理想范围，您是标准身材。\"),\n",
    "               (28,\"肥胖，减肥已是您的头等大事！\"),\n",
    "               (float('inf'),\"重度肥胖，肥胖将危及您的健康！\")]\n",
    "while True:\n",
    "    height = float(input('请输入您的身高(米)：'))    #单位：米 M\n",
    "    if height<=0:\n",
    "        print('感谢使用，下次再见！')\n",
    "        break\n",
    "    while height>2.5:\n",
    "        height = float(input('您的身高不合理！请重新输入您的身高(米)：'))\n",
    "    weight = int(input('请输入您的体重(公斤)：'))    #单位：公斤 Kg\n",
    "    bmi = round(weight / height**2,1)\n",
    "    for health,status in health_status:\n",
    "        if bmi<health:\n",
    "            print(f\"BMI值：{bmi}，\"+status)\n",
    "            break"
   ]
  },
  {
   "cell_type": "markdown",
   "metadata": {},
   "source": [
    "-----------  \n",
    "### 版本 2.4 ###  \n",
    "<div style=\"font-size:16px;text-indent:2em;color:tomato;margin:10px\">将BMI封装成函数</div>\n",
    "\n",
    "####  知识技能：函数 ####  \n",
    "\n",
    "函数是组织好的，可重复使用的，用来实现单一，或相关联功能的代码段。  \n",
    "函数能提高应用的模块性，和代码的重复利用率。你已经知道Python提供了许多内建函数，比如print()。但你也可以自己创建函数，这被叫做用户自定义函数。  \n",
    "\n",
    "定义一个函数  \n",
    "你可以定义一个由自己想要功能的函数，以下是简单的规则：  \n",
    "- 函数代码块以 def 关键词开头，后接函数标识符名称和圆括号 ()。  \n",
    "- 任何传入参数和自变量必须放在圆括号中间，圆括号之间可以用于定义参数。  \n",
    "- 函数的第一行语句可以选择性地使用文档字符串—用于存放函数说明。  \n",
    "- 函数内容以冒号 : 起始，并且缩进。  \n",
    "- return [表达式] 结束函数，选择性地返回一个值给调用方，不带表达式的 return 相当于返回 None。   \n",
    "![](https://www.runoob.com/wp-content/uploads/2014/05/py-tup-10-26-1.png)"
   ]
  },
  {
   "cell_type": "code",
   "execution_count": 10,
   "metadata": {},
   "outputs": [
    {
     "name": "stdout",
     "output_type": "stream",
     "text": [
      "请输入您的身高(米)：1.7\n",
      "请输入您的体重(公斤)：60\n",
      "BMI值：20.8，理想范围，您是标准身材。\n",
      "请输入您的身高(米)：0\n",
      "感谢使用，下次再见！\n"
     ]
    }
   ],
   "source": [
    "#版本2.4：函数封装。\n",
    "health_status=[(18.5,\"体重过轻，应增加营养和锻炼。\"),\n",
    "               (23.1,\"理想范围，您是标准身材。\"),\n",
    "               (28,\"肥胖，减肥已是您的头等大事！\"),\n",
    "               (float('inf'),\"重度肥胖，肥胖将危及您的健康！\")]\n",
    "def bmi(weight,height,healths):\n",
    "    tmp_bmi=round(weight / height**2,1)\n",
    "    for h,s in healths:\n",
    "        if tmp_bmi<h:\n",
    "            return f\"BMI值：{tmp_bmi}，\"+s\n",
    "def main():    \n",
    "    while True:\n",
    "        height = float(input('请输入您的身高(米)：'))    #单位：米 M\n",
    "        if height<=0:\n",
    "            print('感谢使用，下次再见！')\n",
    "            break\n",
    "        while height>2.5:\n",
    "            height = float(input('您的身高不合理！请重新输入您的身高(米)：'))\n",
    "        weight = int(input('请输入您的体重(公斤)：'))    #单位：公斤 Kg\n",
    "        result=bmi(weight,height,health_status)\n",
    "        print(result)\n",
    "main()"
   ]
  },
  {
   "cell_type": "markdown",
   "metadata": {},
   "source": [
    "-------------  \n",
    "### 版本 3 ###  \n",
    "<div style=\"font-size:16px;text-indent:2em;color:tomato;margin:10px\">创建网页在线版BMI计算器</div>\n",
    "\n",
    "---------------  \n",
    "####  知识技能 ####  \n",
    "####  第三方库的安装与使用  ####     \n",
    "- 安装pywebio：pip install pywebio\n",
    "- 导入pywebio库：import pywebio、from pywebio.input import input\n",
    "\n",
    "####  基于浏览器的GUI  ####\n",
    "- html语言\n",
    "- css语言\n",
    "- markdown语言"
   ]
  },
  {
   "cell_type": "code",
   "execution_count": 1,
   "metadata": {},
   "outputs": [
    {
     "name": "stdout",
     "output_type": "stream",
     "text": [
      "Looking in indexes: https://pypi.tuna.tsinghua.edu.cn/simple/\n",
      "Requirement already satisfied: pywebio in c:\\users\\dell\\anaconda3\\lib\\site-packages (1.8.2)\n",
      "Requirement already satisfied: tornado>=5.0 in c:\\users\\dell\\anaconda3\\lib\\site-packages (from pywebio) (6.0.4)\n",
      "Requirement already satisfied: user-agents in c:\\users\\dell\\anaconda3\\lib\\site-packages (from pywebio) (2.2.0)\n",
      "Requirement already satisfied: ua-parser>=0.10.0 in c:\\users\\dell\\anaconda3\\lib\\site-packages (from user-agents->pywebio) (0.18.0)\n",
      "Note: you may need to restart the kernel to use updated packages.\n"
     ]
    }
   ],
   "source": [
    "%pip install pywebio"
   ]
  },
  {
   "cell_type": "markdown",
   "metadata": {},
   "source": [
    "[PyWebIO官方参考文档](https://pywebio.readthedocs.io/zh_CN/latest/index.html)"
   ]
  },
  {
   "cell_type": "code",
   "execution_count": 12,
   "metadata": {},
   "outputs": [],
   "source": [
    "import pywebio\n",
    "from pywebio.input import input, FLOAT\n",
    "from pywebio.output import put_text\n",
    "health_status = [(18.5,\"体重过轻，应增加营养和锻炼。\"),\n",
    "               (23.1,\"理想范围，您是标准身材。\"),\n",
    "               (28,\"肥胖，减肥已是您的头等大事！\"),\n",
    "               (float('inf'),\"重度肥胖，肥胖将危及您的健康！\")]\n",
    "def bmi():\n",
    "    height = input(\"请输入你的身高(米)：\", type=FLOAT)\n",
    "    weight = input(\"请输入你的体重(公斤)：\", type=FLOAT)    \n",
    "    BMI = round(weight / height ** 2,1)\n",
    "    for h, s in health_status:\n",
    "        if BMI < h:\n",
    "            put_text(f'你的BMI值:{BMI}，{s}')\n",
    "            break\n",
    "bmi()"
   ]
  },
  {
   "cell_type": "markdown",
   "metadata": {},
   "source": [
    "<img src=\"img/bmi_h.png\" width=\"60%\"/>\n",
    "<img src=\"img/bmi_w.png\" width=\"60%\"/>\n",
    "<img src=\"img/bmi_r.png\" width=\"60%\"/>\n",
    "<p style=\"text-indent:2em;\">将上面代码最后一行对 bmi() 的直接调用改为使用pywebio.start_server(bmi, port=80)便可以在80端口提供 bmi() 服务</p>"
   ]
  },
  {
   "cell_type": "markdown",
   "metadata": {},
   "source": [
    "#### 使用pywebio的output美化输出。####"
   ]
  },
  {
   "cell_type": "code",
   "execution_count": 13,
   "metadata": {},
   "outputs": [],
   "source": [
    "from pywebio import start_server\n",
    "from pywebio.input import input, FLOAT\n",
    "from pywebio.output import put_text,put_html,put_markdown,put_table,style\n",
    "health_status = [(18.5,\"体重过轻，应增加营养和锻炼。\"),\n",
    "               (23.1,\"理想范围，您是标准身材。\"),\n",
    "               (28,\"肥胖，减肥已是您的头等大事！\"),\n",
    "               (float('inf'),\"重度肥胖，肥胖将危及您的健康！\")]\n",
    "def bmi():\n",
    "    height = input(\"请输入你的身高(米)：\", type=FLOAT)  \n",
    "    weight = input(\"请输入你的体重(公斤)：\", type=FLOAT)  \n",
    "    BMI = round(weight / height ** 2,1)\n",
    "    for h, s in health_status:\n",
    "        if BMI < h:\n",
    "            put_markdown('# **结果**')\n",
    "            put_html('<br/>')\n",
    "            put_text(f'你的BMI值:{BMI}，{s}')\n",
    "            put_html('<br/>')\n",
    "            put_table([\n",
    "                ['BMI指数','结论和建议'],\n",
    "                [BMI,s]\n",
    "            ]).style(\"text-align:center\")\n",
    "            break\n",
    "bmi()\n",
    "#\n",
    "#start_server(bmi,port=80)"
   ]
  },
  {
   "cell_type": "markdown",
   "metadata": {},
   "source": [
    "<img src=\"img/bmi_h.png\" width=\"60%\"/>\n",
    "<img src=\"img/bmi_w.png\" width=\"60%\"/>\n",
    "<img src=\"img/bmi_r_2.png\" width=\"60%\"/>"
   ]
  },
  {
   "cell_type": "markdown",
   "metadata": {},
   "source": [
    "-------------  \n",
    "### 版本 3.1 ###  \n",
    "<div style=\"font-size:16px;text-indent:2em;color:tomato;margin:10px\">搜集BMI指数，并保存到Excel文件</div>   \n",
    "\n",
    "####  知识技能 ####  \n",
    "####  pandas的安装与使用  ####     \n",
    "- pandas:pip install pandas\n",
    "- 导入pandas库：import pandas as pd\n",
    "- pandas打开Excel：pandas.read_excel()\n",
    "- pandas增加数据行：pandas.append()\n",
    "- pandas保存Excel文件：pandas.DataFrame.to_excel()"
   ]
  },
  {
   "cell_type": "code",
   "execution_count": 15,
   "metadata": {},
   "outputs": [],
   "source": [
    "from pywebio import start_server\n",
    "from pywebio.input import input,input_group,FLOAT\n",
    "from pywebio.output import put_text,put_html,put_markdown\n",
    "import pandas as pd\n",
    "health_status = [(18.5,\"体重过轻，应增加营养和锻炼。\"),\n",
    "               (23.1,\"理想范围，您是标准身材。\"),\n",
    "               (28,\"肥胖，减肥已是您的头等大事！\"),\n",
    "               (float('inf'),\"重度肥胖，肥胖将危及您的健康！\")]\n",
    "def bmi():\n",
    "    height_weight = input_group('BMI计算', [\n",
    "        input(\"请输入你的身高(米)\", name=\"height\", type=FLOAT),\n",
    "        input(\"请输入你的体重(公斤)\", name=\"weight\", type=FLOAT)])\n",
    "    weight = height_weight['weight']\n",
    "    height = height_weight['height']\n",
    "    BMI = round( weight / height**2,1)\n",
    "    for h, s in health_status:\n",
    "        if BMI < h:\n",
    "            put_markdown('# **结果**')\n",
    "            put_html('<br/>')\n",
    "            put_text(f'你的BMI值:{BMI}，{s}')\n",
    "            put_html('<br/>')\n",
    "            df=pd.read_excel('bmi.xlsx') \n",
    "            num=len(df)\n",
    "            new_row=[height, weight, BMI,s]\n",
    "            df.loc[num] = new_row\n",
    "            df.to_excel('bmi.xlsx',index = False)\n",
    "            put_text(f'目前已收集了{num+1}条BMI记录。')\n",
    "            put_html(df.to_html(justify='center',border=0))\n",
    "            break\n",
    "bmi()\n",
    "#start_server(bmi,port=80)"
   ]
  },
  {
   "cell_type": "markdown",
   "metadata": {},
   "source": [
    "<img src=\"img/bmi_hw.png\" width=\"60%\"/>\n",
    "<img src=\"img/bmi_r_3.png\" width=\"60%\"/>"
   ]
  },
  {
   "cell_type": "markdown",
   "metadata": {},
   "source": [
    "-------------  \n",
    "### 版本 3.2 ###  \n",
    "<div style=\"font-size:16px;text-indent:2em;color:tomato;margin:10px\">捕获用户的不合理输入</div>   \n",
    "\n",
    "####  知识技能 ####  \n",
    "####  异常处理:try/except  ####     \n",
    "即便 Python 程序的语法是正确的，在运行它的时候，也有可能发生错误。运行期检测到的错误被称为异常。  \n",
    "大多数的异常都不会被程序处理，都以错误信息的形式展现命令行。  \n",
    "异常捕捉可以使用 try/except 语句。其代码执行流程如下：   \n",
    "<img src=\"https://www.runoob.com/wp-content/uploads/2019/07/try_except_else_finally.png\" width=\"60%\">  \n",
    "try 语句按照如下方式工作；  \n",
    "- 首先，执行 try 子句（在关键字 try 和关键字 except 之间的语句）。  \n",
    "- 如果没有异常发生，忽略 except 子句，try 子句执行后结束。  \n",
    "- 如果在执行 try 子句的过程中发生了异常，那么 try 子句余下的部分将被忽略。如果异常的类型和 except 之后的名称相符，那么对应的 except 子句将被执行。  \n",
    "- 如果一个异常没有与任何的 except 匹配，那么这个异常将会传递给上层的 try 中。  \n",
    "\n",
    "一个 try 语句可能包含多个except子句，分别来处理不同的特定的异常。最多只有一个分支会被执行。处理程序将只针对对应的 try 子句中的异常进行处理，而不是其他的 try 的处理程序中的异常。 一个except子句可以同时处理多个异常，这些异常将被放在一个括号里成为一个元组，例如:  \n",
    "``` python\n",
    "except (RuntimeError, TypeError, NameError):\n",
    "    pass\n",
    "```\n",
    "\n",
    "最后一个except子句可以忽略异常的名称，它将被当作通配符使用。你可以使用这种方法打印一个错误信息，然后再次把异常抛出。"
   ]
  },
  {
   "cell_type": "code",
   "execution_count": 16,
   "metadata": {},
   "outputs": [],
   "source": [
    "import pywebio\n",
    "from pywebio.input import input,input_group,FLOAT\n",
    "from pywebio.output import put_text,put_html,put_markdown\n",
    "import pandas as pd\n",
    "pywebio.config(title=\"BMI计算器\")\n",
    "health_status = [(18.5,\"体重过轻，应增加营养和锻炼。\"),\n",
    "               (23.1,\"理想范围，您是标准身材。\"),\n",
    "               (28,\"肥胖，减肥已是您的头等大事！\"),\n",
    "               (float('inf'),\"重度肥胖，肥胖将危及您的健康！\")]\n",
    "def bmi():\n",
    "    height_weight = input_group('BMI计算', [\n",
    "        input(\"请输入你的身高(米)\", name=\"height\", type=FLOAT),\n",
    "        input(\"请输入你的体重(公斤)\", name=\"weight\", type=FLOAT)])\n",
    "    weight = height_weight['weight']\n",
    "    height = height_weight['height']\n",
    "    try:\n",
    "        BMI = round( weight / height**2,1)\n",
    "        for h, s in health_status:\n",
    "            if BMI < h:\n",
    "                put_markdown('# **结果**')\n",
    "                put_html('<br/>')\n",
    "                put_text(f'你的BMI值:{BMI}，{s}')\n",
    "                put_html('<br/>')\n",
    "                df=pd.read_excel('bmi.xlsx') \n",
    "                num=len(df)\n",
    "                new_row=[height, weight, BMI,s]\n",
    "                df.loc[num] = new_row\n",
    "                df.to_excel('bmi.xlsx',index = False)\n",
    "                put_text(f'目前已收集了{num+1}条BMI记录。')\n",
    "                put_html(df.to_html(justify='center',border=0))\n",
    "                break\n",
    "    except:\n",
    "        put_text(\"您输入的身高体重不合理！\")\n",
    "bmi()\n",
    "#pywebio.start_server(bmi,port=80)"
   ]
  },
  {
   "cell_type": "markdown",
   "metadata": {},
   "source": [
    "-------------  \n",
    "### 版本 3.3 ###  \n",
    "<div style=\"font-size:16px;text-indent:2em;color:tomato;margin:10px\">友好处理用户的不合理输入</div>   \n",
    "\n",
    "####  知识技能 ####  \n",
    "####  PyWebIO input输入值校验  ####     \n",
    "pywebio的input输入默认可以为空，如果需要用户必须提供值，则需要在输入函数中传入 required=True。   \n",
    "也可以用validate绑定输入值校验函数。 如果提供，当用户输入完毕或提交表单后校验函数将被调用。"
   ]
  },
  {
   "cell_type": "code",
   "execution_count": 17,
   "metadata": {},
   "outputs": [],
   "source": [
    "import pywebio\n",
    "from pywebio.input import input,input_group,FLOAT\n",
    "from pywebio.output import put_text,put_html,put_markdown\n",
    "import pandas as pd\n",
    "pywebio.config(title=\"BMI计算器\")\n",
    "health_status = [(18.5,\"体重过轻，应增加营养和锻炼。\"),\n",
    "               (23.1,\"理想范围，您是标准身材。\"),\n",
    "               (28,\"肥胖，减肥已是您的头等大事！\"),\n",
    "               (float('inf'),\"重度肥胖，肥胖将危及您的健康！\")]\n",
    "def check_height(value):\n",
    "    if value is None:\n",
    "        return \"身高不能为空\"\n",
    "    if value<=0:\n",
    "        return \"身高太低\"\n",
    "    elif value>3:\n",
    "        return \"身高太高\"\n",
    "def check_weight(value):\n",
    "    if value is None:\n",
    "        return \"体重不能为空\"\n",
    "    if value<=0:\n",
    "        return \"体重太轻\"\n",
    "    elif value>300:\n",
    "        return \"体重太重\"\n",
    "def bmi():\n",
    "    height_weight = input_group('BMI计算', [\n",
    "        input(\"请输入你的身高(米)\", name=\"height\", type=FLOAT,validate=check_height),\n",
    "        input(\"请输入你的体重(公斤)\", name=\"weight\", type=FLOAT,validate=check_weight)])\n",
    "    weight = height_weight['weight']\n",
    "    height = height_weight['height']\n",
    "    try:\n",
    "        BMI = round( weight / height**2,1)\n",
    "        for h, s in health_status:\n",
    "            if BMI < h:\n",
    "                put_markdown('# **结果**')\n",
    "                put_html('<br/>')\n",
    "                put_text(f'你的BMI值:{BMI}，{s}')\n",
    "                put_html('<br/>')\n",
    "                df=pd.read_excel('bmi.xlsx') \n",
    "                num=len(df)\n",
    "                new_row=[height, weight, BMI,s]\n",
    "                df.loc[num] = new_row\n",
    "                df.to_excel('bmi.xlsx',index = False)\n",
    "                put_text(f'目前已收集了{num+1}条BMI记录。')\n",
    "                put_html(df.to_html(justify='center',border=0))\n",
    "                break\n",
    "    except:\n",
    "        put_text(\"您输入的身高体重不合理！\")\n",
    "bmi()\n",
    "#pywebio.start_server(bmi,port=80)"
   ]
  },
  {
   "cell_type": "markdown",
   "metadata": {},
   "source": [
    "<img src=\"img/bmi_hw2.png\" width=\"60%\"/>\n",
    "<img src=\"img/bmi_hw3.png\" width=\"60%\"/>"
   ]
  },
  {
   "cell_type": "markdown",
   "metadata": {},
   "source": [
    "## PyWebIO拓展 ##  \n",
    "<divstyle=\"text-indent:2em;font-size:18px;font-weight:500;color:tomato;margin:10px\">PyWebIO提供了一系列命令式的交互函数来在浏览器上获取用户输入和进行输出，将浏览器变成了一个“富文本终端”，可以用于构建简单的Web应用或基于浏览器的GUI应用。 使用PyWebIO，开发者能像编写终端脚本一样(基于input和print进行交互)来编写应用，无需具备HTML和JS的相关知识；因此，教师将其拓展成课堂的小测验或知识、操作评价。</div>"
   ]
  },
  {
   "cell_type": "code",
   "execution_count": null,
   "metadata": {},
   "outputs": [],
   "source": []
  }
 ],
 "metadata": {
  "kernelspec": {
   "display_name": "Python 3",
   "language": "python",
   "name": "python3"
  },
  "language_info": {
   "codemirror_mode": {
    "name": "ipython",
    "version": 3
   },
   "file_extension": ".py",
   "mimetype": "text/x-python",
   "name": "python",
   "nbconvert_exporter": "python",
   "pygments_lexer": "ipython3",
   "version": "3.7.7"
  }
 },
 "nbformat": 4,
 "nbformat_minor": 4
}
